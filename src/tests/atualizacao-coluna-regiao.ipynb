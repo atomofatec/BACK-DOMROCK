{
 "cells": [
  {
   "cell_type": "code",
   "execution_count": 43,
   "metadata": {},
   "outputs": [],
   "source": [
    "import os\n",
    "import pandas as pd\n",
    "from langchain_community.document_loaders import CSVLoader\n",
    "from langchain_text_splitters import RecursiveCharacterTextSplitter\n",
    "from src.scripts.preprocess import normalize_text, remove_stopwords"
   ]
  },
  {
   "cell_type": "code",
   "execution_count": 44,
   "metadata": {},
   "outputs": [],
   "source": [
    "df = pd.read_csv(r'C:\\Users\\ritah\\Documents\\RepositoriosGithub\\BACK-DOMROCK\\src\\data\\chat_data.csv')"
   ]
  },
  {
   "cell_type": "code",
   "execution_count": 25,
   "metadata": {},
   "outputs": [
    {
     "name": "stdout",
     "output_type": "stream",
     "text": [
      "Index(['submission_date', 'reviewer_id', 'product_id', 'product_name',\n",
      "       'product_brand', 'site_category_lv1', 'site_category_lv2',\n",
      "       'review_title', 'overall_rating', 'recommend_to_a_friend',\n",
      "       'review_text', 'reviewer_birth_year', 'reviewer_gender',\n",
      "       'reviewer_state'],\n",
      "      dtype='object')\n"
     ]
    }
   ],
   "source": [
    "print(df.columns)"
   ]
  },
  {
   "cell_type": "code",
   "execution_count": 26,
   "metadata": {},
   "outputs": [],
   "source": [
    "# define as colunas do csv que serão usadas\n",
    "useful_data = ['product_name', 'product_brand', 'site_category_lv1', 'site_category_lv2', 'overall_rating', 'review_text', 'reviewer_state']"
   ]
  },
  {
   "cell_type": "code",
   "execution_count": 45,
   "metadata": {},
   "outputs": [],
   "source": [
    "# carrega o csv\n",
    "def load_data(file_path):\n",
    "    # lê o arquivo csv\n",
    "    df = pd.read_csv(file_path)\n",
    "    \n",
    "    # exclui as colunas que não serão usadas\n",
    "    df_reduced = df.drop(columns=[col for col in df.columns if col not in useful_data])\n",
    "\n",
    "    # limpa e normaliza o texto\n",
    "    for column in useful_data:\n",
    "        df_reduced[column] = df_reduced[column].apply(lambda x: normalize_text(str(x)))\n",
    "        df_reduced[column] = df_reduced[column].apply(lambda x: remove_stopwords(str(x)))\n",
    "\n",
    "    return df_reduced"
   ]
  },
  {
   "cell_type": "code",
   "execution_count": 46,
   "metadata": {},
   "outputs": [],
   "source": [
    "# Chama a função para carregar os dados e obter o DataFrame reduzido\n",
    "df_reduced = load_data(r'C:\\Users\\ritah\\Documents\\RepositoriosGithub\\BACK-DOMROCK\\src\\data\\chat_data.csv')"
   ]
  },
  {
   "cell_type": "code",
   "execution_count": 47,
   "metadata": {},
   "outputs": [],
   "source": [
    "# define o nome e o caminho do arquivo de saída\n",
    "result_file_name = 'data_processed.csv'  # nome do arquivo de saída\n",
    "new_file_path = os.path.join('data', result_file_name)  # caminho para salvar o arquivo de saída na pasta "
   ]
  },
  {
   "cell_type": "code",
   "execution_count": 48,
   "metadata": {},
   "outputs": [],
   "source": [
    "# Define o diretório onde o arquivo será salvo\n",
    "data_dir = os.path.join('src', 'data')  # Caminho para a pasta 'src/data'\n",
    "if not os.path.exists(data_dir):\n",
    "    os.makedirs(data_dir)  # Cria a pasta 'src/data' se não existir"
   ]
  },
  {
   "cell_type": "code",
   "execution_count": 49,
   "metadata": {},
   "outputs": [],
   "source": [
    "# Define o nome e o caminho do arquivo de saída\n",
    "result_file_name = 'data_processed.csv'  # nome do arquivo de saída\n",
    "new_file_path = os.path.join(data_dir, result_file_name)  # Caminho correto para salvar o arquivo em 'src/data'"
   ]
  },
  {
   "cell_type": "code",
   "execution_count": 50,
   "metadata": {},
   "outputs": [],
   "source": [
    "# salva os dados em csv\n",
    "df_reduced.to_csv(new_file_path, index=False)"
   ]
  },
  {
   "cell_type": "code",
   "execution_count": 51,
   "metadata": {},
   "outputs": [
    {
     "name": "stdout",
     "output_type": "stream",
     "text": [
      "Arquivo salvo em: src\\data\\data_processed.csv\n"
     ]
    }
   ],
   "source": [
    "# Retorna o caminho do arquivo gerado\n",
    "print(f'Arquivo salvo em: {new_file_path}')"
   ]
  },
  {
   "cell_type": "code",
   "execution_count": 52,
   "metadata": {},
   "outputs": [],
   "source": [
    "def load_and_chunk(file_path):\n",
    "    # gera os documentos com o csv processado\n",
    "    loader = CSVLoader(file_path=file_path, encoding='utf-8', csv_args={\n",
    "        'delimiter': ',', 'quotechar': '\"', 'fieldnames': useful_data\n",
    "    }) # classe do langchain para manipular os dados\n",
    "    # delimiter define o que separa as colunas do csv (no caso, uma vírgula)\n",
    "    # quotechar define o caractere que envolve strings, permitindo que uma string tenha vírgulas sem ser divididas em colunas\n",
    "    # fieldnames são os nomes das colunas que serão carregadas\n",
    "\n",
    "    docs = loader.load() # retorna os documentos gerados\n",
    " \n",
    "    # chunkeniza e adiciona overlap nos dados\n",
    "    text_splitter = RecursiveCharacterTextSplitter(chunk_size=800, chunk_overlap=150)\n",
    "    splits = text_splitter.split_documents(docs)\n",
    "\n",
    "    return splits"
   ]
  },
  {
   "cell_type": "code",
   "execution_count": 55,
   "metadata": {},
   "outputs": [
    {
     "name": "stdout",
     "output_type": "stream",
     "text": [
      "                                        product_name   product_brand  \\\n",
      "0  notebook asus vivobook max x541nago472t intel ...             nan   \n",
      "1                   copo acrilico canudo 500ml rocie             nan   \n",
      "2  panela pressao eletrica philips walita daily 5...  philips walita   \n",
      "3                 betoneira columbus roma brinquedos     roma jensen   \n",
      "4  smart tv led 43 lg 43uj6525 ultra hd 4k conver...              lg   \n",
      "\n",
      "       site_category_lv1    site_category_lv2 overall_rating  \\\n",
      "0            informatica             notebook              4   \n",
      "1  utilidades domesticas  copos tacas canecas              4   \n",
      "2        eletroportateis      panela eletrica              4   \n",
      "3             brinquedos   veiculos brinquedo              4   \n",
      "4        tv home theater                   tv              5   \n",
      "\n",
      "                                         review_text reviewer_state  \n",
      "0  contente compra entrega rapida unico problema ...             rj  \n",
      "1  apenas r199420eu consegui comprar lindo copo a...             sc  \n",
      "2  supera agilidade praticidade outras panelas el...             sp  \n",
      "3          filho amou parece verdade tantos detalhes             sp  \n",
      "4  entrega prazo americanas estao parabens smart ...             mg  \n"
     ]
    }
   ],
   "source": [
    "print(df_reduced.head())"
   ]
  },
  {
   "cell_type": "code",
   "execution_count": 56,
   "metadata": {},
   "outputs": [
    {
     "name": "stdout",
     "output_type": "stream",
     "text": [
      "Index(['product_name', 'product_brand', 'site_category_lv1',\n",
      "       'site_category_lv2', 'overall_rating', 'review_text', 'reviewer_state'],\n",
      "      dtype='object')\n"
     ]
    }
   ],
   "source": [
    "print(df_reduced.columns)"
   ]
  }
 ],
 "metadata": {
  "kernelspec": {
   "display_name": "venv",
   "language": "python",
   "name": "python3"
  },
  "language_info": {
   "codemirror_mode": {
    "name": "ipython",
    "version": 3
   },
   "file_extension": ".py",
   "mimetype": "text/x-python",
   "name": "python",
   "nbconvert_exporter": "python",
   "pygments_lexer": "ipython3",
   "version": "3.11.2"
  }
 },
 "nbformat": 4,
 "nbformat_minor": 2
}
