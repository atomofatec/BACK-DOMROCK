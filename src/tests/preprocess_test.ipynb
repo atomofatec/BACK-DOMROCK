{
 "cells": [
  {
   "cell_type": "code",
   "execution_count": 1,
   "metadata": {},
   "outputs": [
    {
     "name": "stdout",
     "output_type": "stream",
     "text": [
      "Requirement already satisfied: unidecode in h:\\github\\fatec\\atmchat\\venv\\lib\\site-packages (1.3.8)\n",
      "Requirement already satisfied: nltk in h:\\github\\fatec\\atmchat\\venv\\lib\\site-packages (3.9.1)\n",
      "Requirement already satisfied: click in h:\\github\\fatec\\atmchat\\venv\\lib\\site-packages (from nltk) (8.1.7)\n",
      "Requirement already satisfied: joblib in h:\\github\\fatec\\atmchat\\venv\\lib\\site-packages (from nltk) (1.4.2)\n",
      "Requirement already satisfied: regex>=2021.8.3 in h:\\github\\fatec\\atmchat\\venv\\lib\\site-packages (from nltk) (2024.9.11)\n",
      "Requirement already satisfied: tqdm in h:\\github\\fatec\\atmchat\\venv\\lib\\site-packages (from nltk) (4.66.5)\n",
      "Requirement already satisfied: colorama in h:\\github\\fatec\\atmchat\\venv\\lib\\site-packages (from click->nltk) (0.4.6)\n",
      "Note: you may need to restart the kernel to use updated packages.\n"
     ]
    }
   ],
   "source": [
    "%pip install unidecode nltk"
   ]
  },
  {
   "cell_type": "code",
   "execution_count": 2,
   "metadata": {},
   "outputs": [
    {
     "name": "stdout",
     "output_type": "stream",
     "text": [
      "Texto em minúsculo: olá, como vai você? espero que esteja bem!\n",
      "Texto sem acentos: ola, como vai voce? espero que esteja bem!\n",
      "Texto sem espaços desnecessários: ola, como vai voce? espero que esteja bem!\n",
      "Texto sem pontuação: ola como vai voce espero que esteja bem\n",
      "Texto sem stopwords: ola vai voce espero bem\n",
      "Texto original: Olá, como vai você? Espero que esteja bem!\n",
      "Texto final sem stopwords: ola vai voce espero bem\n"
     ]
    }
   ],
   "source": [
    "import unicodedata\n",
    "import re\n",
    "from unidecode import unidecode\n",
    "from nltk.corpus import stopwords\n",
    "\n",
    "# baixa as stopwords em pt-br\n",
    "stopwords_list = set(stopwords.words('portuguese'))\n",
    "\n",
    "def normalize_text(text):\n",
    "    # deixa tudo minúsculo\n",
    "    text = text.lower()\n",
    "    print(f\"Texto em minúsculo: {text}\")\n",
    "    \n",
    "    # remove os acentos codificados\n",
    "    text = unidecode(text)\n",
    "    print(f\"Texto sem acentos: {text}\")\n",
    "\n",
    "    # remove espaços desnecessários\n",
    "    text = re.sub(r'\\s+', ' ', text).strip()\n",
    "    print(f\"Texto sem espaços desnecessários: {text}\")\n",
    "    \n",
    "    # remove pontuação\n",
    "    text = re.sub(r'[^\\w\\s]', '', text)\n",
    "    print(f\"Texto sem pontuação: {text}\")\n",
    "    \n",
    "    return text\n",
    "\n",
    "def remove_stopwords(text):\n",
    "    # remove as stopwords\n",
    "    result = ' '.join([word for word in text.split() if word not in stopwords_list])\n",
    "    print(f\"Texto sem stopwords: {result}\")\n",
    "    return result\n",
    "\n",
    "# Exemplo de uso\n",
    "texto_original = \"Olá, como vai você? Espero que esteja bem!\"\n",
    "texto_normalizado = normalize_text(texto_original)\n",
    "texto_sem_stopwords = remove_stopwords(texto_normalizado)\n",
    "\n",
    "print(f\"Texto original: {texto_original}\")\n",
    "print(f\"Texto final sem stopwords: {texto_sem_stopwords}\")"
   ]
  },
  {
   "cell_type": "code",
   "execution_count": 3,
   "metadata": {},
   "outputs": [
    {
     "name": "stdout",
     "output_type": "stream",
     "text": [
      "Texto em minúsculo: olá, como vai você? espero que esteja bem!\n",
      "Texto sem espaços desnecessários: olá, como vai você? espero que esteja bem!\n",
      "Texto sem pontuação: olá como vai você? espero que esteja bem\n",
      "Texto normalizado (acentos separados): olá como vai você? espero que esteja bem\n",
      "Texto sem acentos: ola como vai voce? espero que esteja bem\n",
      "Texto sem stopwords: ola vai voce? espero bem\n",
      "Texto original: Olá, como vai você? Espero que esteja bem!\n",
      "Texto final sem stopwords: ola vai voce? espero bem\n"
     ]
    }
   ],
   "source": [
    "import re\n",
    "import unicodedata\n",
    "from nltk.corpus import stopwords\n",
    "\n",
    "# baixa as stopwords em pt-br\n",
    "stop_words = set(stopwords.words('portuguese'))\n",
    "\n",
    "def normalize_text(text):\n",
    "    # deixa tudo minúsculo\n",
    "    text = text.lower()\n",
    "    print(f\"Texto em minúsculo: {text}\")\n",
    "    \n",
    "    # remove espaços desnecessários\n",
    "    text = re.sub(r'\\s+', ' ', text).strip()\n",
    "    print(f\"Texto sem espaços desnecessários: {text}\")\n",
    "    \n",
    "    # remove pontuação ('!', '.', ',')\n",
    "    text = re.sub(r'[!.,]', '', text)\n",
    "    print(f\"Texto sem pontuação: {text}\")\n",
    "    \n",
    "    # normaliza e remove os acentos\n",
    "    text = unicodedata.normalize('NFD', text)  # \"separa\" os acentos dos caracteres\n",
    "    print(f\"Texto normalizado (acentos separados): {text}\")\n",
    "    \n",
    "    text = re.sub(r'[\\u0300-\\u036f]', '', text)  # remove os acentos\n",
    "    print(f\"Texto sem acentos: {text}\")\n",
    "    \n",
    "    return text\n",
    "\n",
    "def remove_stop_words(text):\n",
    "    result = ' '.join([word for word in text.split() if word not in stop_words])  # remove as palavras na lista de stopwords\n",
    "    print(f\"Texto sem stopwords: {result}\")\n",
    "    return result\n",
    "\n",
    "# Exemplo de uso\n",
    "texto_original = \"Olá, como vai você? Espero que esteja bem!\"\n",
    "texto_normalizado = normalize_text(texto_original)\n",
    "texto_sem_stopwords = remove_stop_words(texto_normalizado)\n",
    "\n",
    "print(f\"Texto original: {texto_original}\")\n",
    "print(f\"Texto final sem stopwords: {texto_sem_stopwords}\")"
   ]
  }
 ],
 "metadata": {
  "kernelspec": {
   "display_name": "venv",
   "language": "python",
   "name": "python3"
  },
  "language_info": {
   "codemirror_mode": {
    "name": "ipython",
    "version": 3
   },
   "file_extension": ".py",
   "mimetype": "text/x-python",
   "name": "python",
   "nbconvert_exporter": "python",
   "pygments_lexer": "ipython3",
   "version": "3.12.5"
  }
 },
 "nbformat": 4,
 "nbformat_minor": 2
}
